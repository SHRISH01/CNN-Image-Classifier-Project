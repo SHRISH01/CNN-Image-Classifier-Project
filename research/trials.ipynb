{
 "cells": [
  {
   "cell_type": "code",
   "execution_count": 9,
   "metadata": {},
   "outputs": [],
   "source": [
    "import os\n"
   ]
  },
  {
   "cell_type": "code",
   "execution_count": 10,
   "metadata": {},
   "outputs": [
    {
     "data": {
      "text/plain": [
       "7"
      ]
     },
     "execution_count": 10,
     "metadata": {},
     "output_type": "execute_result"
    }
   ],
   "source": [
    "def add_numbers(a:int,b:int)->int:\n",
    "    return a+b\n",
    "\n",
    "add_numbers(2,5)"
   ]
  },
  {
   "cell_type": "code",
   "execution_count": 6,
   "metadata": {},
   "outputs": [],
   "source": [
    "import sys\n",
    "import os\n",
    "os.chdir(\"../\")\n",
    "from src.CNNClassifier.utils.box_manual import Box\n",
    "\n",
    "# Assuming your config is loaded from a dictionary or file\n",
    "config_dict = {\n",
    "    \"prepare_base_model\": {\n",
    "        \"root_dir\": \"/path/to/root\",\n",
    "        \"base_model_path\": \"/path/to/base_model\",\n",
    "        \"updated_base_model_path\": \"/path/to/updated_base_model\"\n",
    "    }\n",
    "}\n",
    "\n",
    "# Convert the dictionary into a Box object\n",
    "cf = Box(config_dict)\n"
   ]
  },
  {
   "cell_type": "code",
   "execution_count": null,
   "metadata": {},
   "outputs": [],
   "source": []
  },
  {
   "cell_type": "code",
   "execution_count": null,
   "metadata": {},
   "outputs": [],
   "source": []
  }
 ],
 "metadata": {
  "kernelspec": {
   "display_name": "myenv",
   "language": "python",
   "name": "python3"
  },
  "language_info": {
   "codemirror_mode": {
    "name": "ipython",
    "version": 3
   },
   "file_extension": ".py",
   "mimetype": "text/x-python",
   "name": "python",
   "nbconvert_exporter": "python",
   "pygments_lexer": "ipython3",
   "version": "3.10.8"
  }
 },
 "nbformat": 4,
 "nbformat_minor": 2
}
